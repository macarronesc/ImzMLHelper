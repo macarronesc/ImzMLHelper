{
 "cells": [
  {
   "cell_type": "code",
   "execution_count": null,
   "metadata": {
    "collapsed": true,
    "pycharm": {
     "name": "#%%\n"
    }
   },
   "outputs": [],
   "source": [
    "import lithops\n",
    "import ImzMLHelper"
   ]
  },
  {
   "cell_type": "code",
   "execution_count": null,
   "outputs": [],
   "source": [
    "bucket = 'cloud-object-storage-r3-cos-standard-loq'\n",
    "fileKeyImz = 'Example_Processed.imzML'  # Example_Continuous\n",
    "fileKeyIbd = 'Example_Processed.ibd'    # Example_Continuous"
   ],
   "metadata": {
    "collapsed": false,
    "pycharm": {
     "name": "#%%\n"
    }
   }
  },
  {
   "cell_type": "code",
   "execution_count": null,
   "outputs": [],
   "source": [
    "def helper_test(aux, ibm_cos):\n",
    "    helper = ImzMLHelper.ImzMLHelper(bucket, fileKeyImz, fileKeyIbd, \"test.imzML\", \"test.ibd\", ibm_cos)\n",
    "    helper.load_filename_imz()\n",
    "    helper.load_filename_ibd()\n",
    "\n",
    "    print(\"Split: \")\n",
    "    print(helper.split_imz())\n",
    "    print(\"\\nCoordinates:\")\n",
    "    print(helper.get_all_coordinates())\n",
    "    print(\"\\nMetadata:\")\n",
    "    print(helper.get_metadata())\n",
    "    print(\"\\nIntensity info:\")\n",
    "    print(helper.get_intensity_info())\n",
    "    print(\"\\nIntensity point info:\")\n",
    "    print(helper.get_intensity_info_point((1, 2, 1)))\n",
    "    print(\"\\nMz info:\")\n",
    "    print(helper.get_mz_info())\n",
    "    print(\"\\nMz point info:\")\n",
    "    print(helper.get_mz_info_point((1, 2, 1)))\n",
    "    print(\"\\nData point local:\")\n",
    "    print(helper.get_data_point_local((1, 2, 1)))\n",
    "    print(\"\\nData point cloud:\")\n",
    "    print(helper.get_data_point_cloud((1, 2, 1)))\n",
    "    print(\"\\nComparison of specific points:\")\n",
    "    print(helper.get_data_point_local((1, 2, 1))[0][12])\n",
    "    print(helper.get_data_point_cloud(tuple((1, 2, 1)))[0][12])\n",
    "    print(helper.get_data_point_local((1, 2, 1))[0][13])\n",
    "    print(helper.get_data_point_cloud(tuple((1, 2, 1)))[0][13])\n",
    "    print(helper.get_data_point_local((1, 2, 1))[0][8394])\n",
    "    print(helper.get_data_point_cloud(tuple((1, 2, 1)))[0][8394])\n",
    "    print(helper.get_data_point_local((1, 2, 1))[0][8389])\n",
    "    print(helper.get_data_point_cloud(tuple((1, 2, 1)))[0][8389])"
   ],
   "metadata": {
    "collapsed": false,
    "pycharm": {
     "name": "#%%\n"
    }
   }
  },
  {
   "cell_type": "code",
   "execution_count": null,
   "outputs": [],
   "source": [
    "if __name__ == '__main__':\n",
    "    fexec = lithops.FunctionExecutor()\n",
    "    fexec.map(helper_test, \"\")\n",
    "    results = fexec.get_result()"
   ],
   "metadata": {
    "collapsed": false,
    "pycharm": {
     "name": "#%%\n"
    }
   }
  },
  {
   "cell_type": "code",
   "execution_count": null,
   "outputs": [],
   "source": [],
   "metadata": {
    "collapsed": false,
    "pycharm": {
     "name": "#%%\n",
     "is_executing": true
    }
   }
  }
 ],
 "metadata": {
  "kernelspec": {
   "display_name": "Python 3",
   "language": "python",
   "name": "python3"
  },
  "language_info": {
   "codemirror_mode": {
    "name": "ipython",
    "version": 2
   },
   "file_extension": ".py",
   "mimetype": "text/x-python",
   "name": "python",
   "nbconvert_exporter": "python",
   "pygments_lexer": "ipython2",
   "version": "2.7.6"
  }
 },
 "nbformat": 4,
 "nbformat_minor": 0
}